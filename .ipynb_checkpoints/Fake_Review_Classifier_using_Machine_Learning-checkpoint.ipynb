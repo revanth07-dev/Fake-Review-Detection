{
 "cells": [
  {
   "cell_type": "code",
   "execution_count": 2,
   "metadata": {
    "id": "pqkaaX3_cR4C"
   },
   "outputs": [],
   "source": [
    "import numpy as np\n",
    "import pandas as pd"
   ]
  },
  {
   "cell_type": "code",
   "execution_count": 3,
   "metadata": {
    "colab": {
     "base_uri": "https://localhost:8080/",
     "height": 195
    },
    "id": "7RCSXctFcmYP",
    "outputId": "d8edda9c-d752-4183-ccf3-2c15be765d84"
   },
   "outputs": [
    {
     "data": {
      "text/html": [
       "<div>\n",
       "<style scoped>\n",
       "    .dataframe tbody tr th:only-of-type {\n",
       "        vertical-align: middle;\n",
       "    }\n",
       "\n",
       "    .dataframe tbody tr th {\n",
       "        vertical-align: top;\n",
       "    }\n",
       "\n",
       "    .dataframe thead th {\n",
       "        text-align: right;\n",
       "    }\n",
       "</style>\n",
       "<table border=\"1\" class=\"dataframe\">\n",
       "  <thead>\n",
       "    <tr style=\"text-align: right;\">\n",
       "      <th></th>\n",
       "      <th>Unnamed: 0</th>\n",
       "      <th>Date</th>\n",
       "      <th>URL</th>\n",
       "      <th>Review_Title</th>\n",
       "      <th>Author</th>\n",
       "      <th>Rating</th>\n",
       "      <th>Review_text</th>\n",
       "      <th>Review_helpful</th>\n",
       "      <th>Sentiment</th>\n",
       "      <th>Subjectivity</th>\n",
       "      <th>...</th>\n",
       "      <th>Adv_Count</th>\n",
       "      <th>Pro_Count</th>\n",
       "      <th>Pre_Count</th>\n",
       "      <th>Con_Count</th>\n",
       "      <th>Art_Count</th>\n",
       "      <th>Nega_Count</th>\n",
       "      <th>Aux_Count</th>\n",
       "      <th>Authenticity</th>\n",
       "      <th>AT</th>\n",
       "      <th>Rev_Type</th>\n",
       "    </tr>\n",
       "  </thead>\n",
       "  <tbody>\n",
       "    <tr>\n",
       "      <th>0</th>\n",
       "      <td>0</td>\n",
       "      <td>Reviewed in India on 10 August 2018</td>\n",
       "      <td>https://www.amazon.in/Logitech-Prodigy-G213-Ga...</td>\n",
       "      <td>It s a logitech  Definitely worth buying it</td>\n",
       "      <td>Aqib Mehmood</td>\n",
       "      <td>5</td>\n",
       "      <td>A really awesome keyboard  i was actually go...</td>\n",
       "      <td>77</td>\n",
       "      <td>0.359722</td>\n",
       "      <td>0.552778</td>\n",
       "      <td>...</td>\n",
       "      <td>6.0</td>\n",
       "      <td>4.0</td>\n",
       "      <td>3.0</td>\n",
       "      <td>2.0</td>\n",
       "      <td>2.0</td>\n",
       "      <td>1.0</td>\n",
       "      <td>9.0</td>\n",
       "      <td>0.706522</td>\n",
       "      <td>13.0</td>\n",
       "      <td>1</td>\n",
       "    </tr>\n",
       "    <tr>\n",
       "      <th>1</th>\n",
       "      <td>1</td>\n",
       "      <td>Reviewed in India on 27 March 2018</td>\n",
       "      <td>https://www.amazon.in/Logitech-Prodigy-G213-Ga...</td>\n",
       "      <td>Great deal  got it for        With Lightening ...</td>\n",
       "      <td>Chauhan</td>\n",
       "      <td>4</td>\n",
       "      <td>I know its costly but its worth your money  ...</td>\n",
       "      <td>55</td>\n",
       "      <td>0.233125</td>\n",
       "      <td>0.468542</td>\n",
       "      <td>...</td>\n",
       "      <td>10.0</td>\n",
       "      <td>4.0</td>\n",
       "      <td>7.0</td>\n",
       "      <td>2.0</td>\n",
       "      <td>2.0</td>\n",
       "      <td>1.0</td>\n",
       "      <td>6.0</td>\n",
       "      <td>0.666667</td>\n",
       "      <td>16.0</td>\n",
       "      <td>1</td>\n",
       "    </tr>\n",
       "    <tr>\n",
       "      <th>2</th>\n",
       "      <td>2</td>\n",
       "      <td>Reviewed in India on 19 December 2018</td>\n",
       "      <td>https://www.amazon.in/Logitech-Prodigy-G213-Ga...</td>\n",
       "      <td>Loved it</td>\n",
       "      <td>Smok3y</td>\n",
       "      <td>5</td>\n",
       "      <td>I had been contemplating to buy this for a l...</td>\n",
       "      <td>18</td>\n",
       "      <td>0.338750</td>\n",
       "      <td>0.568750</td>\n",
       "      <td>...</td>\n",
       "      <td>3.0</td>\n",
       "      <td>4.0</td>\n",
       "      <td>7.0</td>\n",
       "      <td>1.0</td>\n",
       "      <td>2.0</td>\n",
       "      <td>0.0</td>\n",
       "      <td>9.0</td>\n",
       "      <td>0.735294</td>\n",
       "      <td>22.0</td>\n",
       "      <td>1</td>\n",
       "    </tr>\n",
       "    <tr>\n",
       "      <th>3</th>\n",
       "      <td>3</td>\n",
       "      <td>Reviewed in India on 25 June 2020</td>\n",
       "      <td>https://www.amazon.in/Logitech-Prodigy-G213-Ga...</td>\n",
       "      <td>Not a good purchase  please read description</td>\n",
       "      <td>Kumar Saharsh</td>\n",
       "      <td>1</td>\n",
       "      <td>SO   Very very small keys  For fast typers w...</td>\n",
       "      <td>11</td>\n",
       "      <td>0.139083</td>\n",
       "      <td>0.507840</td>\n",
       "      <td>...</td>\n",
       "      <td>6.0</td>\n",
       "      <td>4.0</td>\n",
       "      <td>8.0</td>\n",
       "      <td>1.0</td>\n",
       "      <td>2.0</td>\n",
       "      <td>2.0</td>\n",
       "      <td>5.0</td>\n",
       "      <td>0.687500</td>\n",
       "      <td>22.0</td>\n",
       "      <td>1</td>\n",
       "    </tr>\n",
       "    <tr>\n",
       "      <th>4</th>\n",
       "      <td>4</td>\n",
       "      <td>Reviewed in India on 27 October 2018</td>\n",
       "      <td>https://www.amazon.in/Logitech-Prodigy-G213-Ga...</td>\n",
       "      <td>Good only when new</td>\n",
       "      <td>Amazon Customer</td>\n",
       "      <td>2</td>\n",
       "      <td>Good to use keyboard while it is new  but it...</td>\n",
       "      <td>15</td>\n",
       "      <td>0.165427</td>\n",
       "      <td>0.698140</td>\n",
       "      <td>...</td>\n",
       "      <td>4.0</td>\n",
       "      <td>2.0</td>\n",
       "      <td>9.0</td>\n",
       "      <td>2.0</td>\n",
       "      <td>1.0</td>\n",
       "      <td>1.0</td>\n",
       "      <td>3.0</td>\n",
       "      <td>0.731343</td>\n",
       "      <td>28.0</td>\n",
       "      <td>0</td>\n",
       "    </tr>\n",
       "  </tbody>\n",
       "</table>\n",
       "<p>5 rows × 26 columns</p>\n",
       "</div>"
      ],
      "text/plain": [
       "   Unnamed: 0                                   Date  \\\n",
       "0           0    Reviewed in India on 10 August 2018   \n",
       "1           1     Reviewed in India on 27 March 2018   \n",
       "2           2  Reviewed in India on 19 December 2018   \n",
       "3           3      Reviewed in India on 25 June 2020   \n",
       "4           4   Reviewed in India on 27 October 2018   \n",
       "\n",
       "                                                 URL  \\\n",
       "0  https://www.amazon.in/Logitech-Prodigy-G213-Ga...   \n",
       "1  https://www.amazon.in/Logitech-Prodigy-G213-Ga...   \n",
       "2  https://www.amazon.in/Logitech-Prodigy-G213-Ga...   \n",
       "3  https://www.amazon.in/Logitech-Prodigy-G213-Ga...   \n",
       "4  https://www.amazon.in/Logitech-Prodigy-G213-Ga...   \n",
       "\n",
       "                                        Review_Title           Author  Rating  \\\n",
       "0       It s a logitech  Definitely worth buying it      Aqib Mehmood       5   \n",
       "1  Great deal  got it for        With Lightening ...          Chauhan       4   \n",
       "2                                           Loved it           Smok3y       5   \n",
       "3       Not a good purchase  please read description    Kumar Saharsh       1   \n",
       "4                                 Good only when new  Amazon Customer       2   \n",
       "\n",
       "                                         Review_text  Review_helpful  \\\n",
       "0    A really awesome keyboard  i was actually go...              77   \n",
       "1    I know its costly but its worth your money  ...              55   \n",
       "2    I had been contemplating to buy this for a l...              18   \n",
       "3    SO   Very very small keys  For fast typers w...              11   \n",
       "4    Good to use keyboard while it is new  but it...              15   \n",
       "\n",
       "   Sentiment  Subjectivity  ...  Adv_Count  Pro_Count  Pre_Count  Con_Count  \\\n",
       "0   0.359722      0.552778  ...        6.0        4.0        3.0        2.0   \n",
       "1   0.233125      0.468542  ...       10.0        4.0        7.0        2.0   \n",
       "2   0.338750      0.568750  ...        3.0        4.0        7.0        1.0   \n",
       "3   0.139083      0.507840  ...        6.0        4.0        8.0        1.0   \n",
       "4   0.165427      0.698140  ...        4.0        2.0        9.0        2.0   \n",
       "\n",
       "   Art_Count  Nega_Count  Aux_Count  Authenticity    AT  Rev_Type  \n",
       "0        2.0         1.0        9.0      0.706522  13.0         1  \n",
       "1        2.0         1.0        6.0      0.666667  16.0         1  \n",
       "2        2.0         0.0        9.0      0.735294  22.0         1  \n",
       "3        2.0         2.0        5.0      0.687500  22.0         1  \n",
       "4        1.0         1.0        3.0      0.731343  28.0         0  \n",
       "\n",
       "[5 rows x 26 columns]"
      ]
     },
     "execution_count": 3,
     "metadata": {},
     "output_type": "execute_result"
    }
   ],
   "source": [
    "data = pd.read_csv(\"dataset.csv\")\n",
    "data.head()"
   ]
  },
  {
   "cell_type": "code",
   "execution_count": 4,
   "metadata": {
    "colab": {
     "base_uri": "https://localhost:8080/",
     "height": 118
    },
    "id": "_oDDyjc1coQo",
    "outputId": "dbfbe3e2-2f5e-4283-d0f7-67095a65bb11"
   },
   "outputs": [
    {
     "data": {
      "text/plain": [
       "Unnamed: 0        0\n",
       "Date              0\n",
       "URL               0\n",
       "Review_Title      0\n",
       "Author            0\n",
       "Rating            0\n",
       "Review_text       0\n",
       "Review_helpful    0\n",
       "Sentiment         0\n",
       "Subjectivity      0\n",
       "Neg_Count         0\n",
       "Word_Count        0\n",
       "Unique_words      0\n",
       "Noun_Count        0\n",
       "Adj_Count         0\n",
       "Verb_Count        0\n",
       "Adv_Count         0\n",
       "Pro_Count         0\n",
       "Pre_Count         0\n",
       "Con_Count         0\n",
       "Art_Count         0\n",
       "Nega_Count        0\n",
       "Aux_Count         0\n",
       "Authenticity      0\n",
       "AT                0\n",
       "Rev_Type          0\n",
       "dtype: int64"
      ]
     },
     "execution_count": 4,
     "metadata": {},
     "output_type": "execute_result"
    }
   ],
   "source": [
    "data.isnull().sum()"
   ]
  },
  {
   "cell_type": "code",
   "execution_count": 5,
   "metadata": {
    "colab": {
     "base_uri": "https://localhost:8080/",
     "height": 34
    },
    "id": "jOENmUwscrDi",
    "outputId": "5e4f11aa-ba15-422f-a813-53fc0342a98b"
   },
   "outputs": [
    {
     "data": {
      "text/plain": [
       "(9438, 26)"
      ]
     },
     "execution_count": 5,
     "metadata": {},
     "output_type": "execute_result"
    }
   ],
   "source": [
    "data.shape"
   ]
  },
  {
   "cell_type": "code",
   "execution_count": 6,
   "metadata": {
    "id": "zfDMnk9xctev"
   },
   "outputs": [],
   "source": [
    "data.dropna(inplace=True)"
   ]
  },
  {
   "cell_type": "code",
   "execution_count": 7,
   "metadata": {
    "colab": {
     "base_uri": "https://localhost:8080/",
     "height": 118
    },
    "id": "7sa_HsbKczxh",
    "outputId": "fdfcba1f-572a-4cfb-86eb-be2267e3df09"
   },
   "outputs": [
    {
     "data": {
      "text/plain": [
       "Unnamed: 0        0\n",
       "Date              0\n",
       "URL               0\n",
       "Review_Title      0\n",
       "Author            0\n",
       "Rating            0\n",
       "Review_text       0\n",
       "Review_helpful    0\n",
       "Sentiment         0\n",
       "Subjectivity      0\n",
       "Neg_Count         0\n",
       "Word_Count        0\n",
       "Unique_words      0\n",
       "Noun_Count        0\n",
       "Adj_Count         0\n",
       "Verb_Count        0\n",
       "Adv_Count         0\n",
       "Pro_Count         0\n",
       "Pre_Count         0\n",
       "Con_Count         0\n",
       "Art_Count         0\n",
       "Nega_Count        0\n",
       "Aux_Count         0\n",
       "Authenticity      0\n",
       "AT                0\n",
       "Rev_Type          0\n",
       "dtype: int64"
      ]
     },
     "execution_count": 7,
     "metadata": {},
     "output_type": "execute_result"
    }
   ],
   "source": [
    "data.isnull().sum()"
   ]
  },
  {
   "cell_type": "code",
   "execution_count": 7,
   "metadata": {
    "colab": {
     "base_uri": "https://localhost:8080/",
     "height": 34
    },
    "id": "x7A8Ndmjc1VJ",
    "outputId": "352c5d54-da8e-4912-ef1a-cad74a609912"
   },
   "outputs": [
    {
     "data": {
      "text/plain": [
       "(9438, 26)"
      ]
     },
     "execution_count": 7,
     "metadata": {},
     "output_type": "execute_result"
    }
   ],
   "source": [
    "data.shape"
   ]
  },
  {
   "cell_type": "code",
   "execution_count": 8,
   "metadata": {
    "colab": {
     "base_uri": "https://localhost:8080/",
     "height": 195
    },
    "id": "CVX4PgrYc2Ii",
    "outputId": "7bc10551-3b8f-4d66-feb6-5a64f6eb909e"
   },
   "outputs": [
    {
     "data": {
      "text/html": [
       "<div>\n",
       "<style scoped>\n",
       "    .dataframe tbody tr th:only-of-type {\n",
       "        vertical-align: middle;\n",
       "    }\n",
       "\n",
       "    .dataframe tbody tr th {\n",
       "        vertical-align: top;\n",
       "    }\n",
       "\n",
       "    .dataframe thead th {\n",
       "        text-align: right;\n",
       "    }\n",
       "</style>\n",
       "<table border=\"1\" class=\"dataframe\">\n",
       "  <thead>\n",
       "    <tr style=\"text-align: right;\">\n",
       "      <th></th>\n",
       "      <th>Unnamed: 0</th>\n",
       "      <th>Date</th>\n",
       "      <th>URL</th>\n",
       "      <th>Review_Title</th>\n",
       "      <th>Author</th>\n",
       "      <th>Rating</th>\n",
       "      <th>Review_text</th>\n",
       "      <th>Review_helpful</th>\n",
       "      <th>Sentiment</th>\n",
       "      <th>Subjectivity</th>\n",
       "      <th>...</th>\n",
       "      <th>Adv_Count</th>\n",
       "      <th>Pro_Count</th>\n",
       "      <th>Pre_Count</th>\n",
       "      <th>Con_Count</th>\n",
       "      <th>Art_Count</th>\n",
       "      <th>Nega_Count</th>\n",
       "      <th>Aux_Count</th>\n",
       "      <th>Authenticity</th>\n",
       "      <th>AT</th>\n",
       "      <th>Rev_Type</th>\n",
       "    </tr>\n",
       "  </thead>\n",
       "  <tbody>\n",
       "    <tr>\n",
       "      <th>0</th>\n",
       "      <td>0</td>\n",
       "      <td>Reviewed in India on 10 August 2018</td>\n",
       "      <td>https://www.amazon.in/Logitech-Prodigy-G213-Ga...</td>\n",
       "      <td>It s a logitech  Definitely worth buying it</td>\n",
       "      <td>Aqib Mehmood</td>\n",
       "      <td>5</td>\n",
       "      <td>A really awesome keyboard  i was actually go...</td>\n",
       "      <td>77</td>\n",
       "      <td>0.359722</td>\n",
       "      <td>0.552778</td>\n",
       "      <td>...</td>\n",
       "      <td>6.0</td>\n",
       "      <td>4.0</td>\n",
       "      <td>3.0</td>\n",
       "      <td>2.0</td>\n",
       "      <td>2.0</td>\n",
       "      <td>1.0</td>\n",
       "      <td>9.0</td>\n",
       "      <td>0.706522</td>\n",
       "      <td>13.0</td>\n",
       "      <td>1</td>\n",
       "    </tr>\n",
       "    <tr>\n",
       "      <th>1</th>\n",
       "      <td>1</td>\n",
       "      <td>Reviewed in India on 27 March 2018</td>\n",
       "      <td>https://www.amazon.in/Logitech-Prodigy-G213-Ga...</td>\n",
       "      <td>Great deal  got it for        With Lightening ...</td>\n",
       "      <td>Chauhan</td>\n",
       "      <td>4</td>\n",
       "      <td>I know its costly but its worth your money  ...</td>\n",
       "      <td>55</td>\n",
       "      <td>0.233125</td>\n",
       "      <td>0.468542</td>\n",
       "      <td>...</td>\n",
       "      <td>10.0</td>\n",
       "      <td>4.0</td>\n",
       "      <td>7.0</td>\n",
       "      <td>2.0</td>\n",
       "      <td>2.0</td>\n",
       "      <td>1.0</td>\n",
       "      <td>6.0</td>\n",
       "      <td>0.666667</td>\n",
       "      <td>16.0</td>\n",
       "      <td>1</td>\n",
       "    </tr>\n",
       "    <tr>\n",
       "      <th>2</th>\n",
       "      <td>2</td>\n",
       "      <td>Reviewed in India on 19 December 2018</td>\n",
       "      <td>https://www.amazon.in/Logitech-Prodigy-G213-Ga...</td>\n",
       "      <td>Loved it</td>\n",
       "      <td>Smok3y</td>\n",
       "      <td>5</td>\n",
       "      <td>I had been contemplating to buy this for a l...</td>\n",
       "      <td>18</td>\n",
       "      <td>0.338750</td>\n",
       "      <td>0.568750</td>\n",
       "      <td>...</td>\n",
       "      <td>3.0</td>\n",
       "      <td>4.0</td>\n",
       "      <td>7.0</td>\n",
       "      <td>1.0</td>\n",
       "      <td>2.0</td>\n",
       "      <td>0.0</td>\n",
       "      <td>9.0</td>\n",
       "      <td>0.735294</td>\n",
       "      <td>22.0</td>\n",
       "      <td>1</td>\n",
       "    </tr>\n",
       "    <tr>\n",
       "      <th>3</th>\n",
       "      <td>3</td>\n",
       "      <td>Reviewed in India on 25 June 2020</td>\n",
       "      <td>https://www.amazon.in/Logitech-Prodigy-G213-Ga...</td>\n",
       "      <td>Not a good purchase  please read description</td>\n",
       "      <td>Kumar Saharsh</td>\n",
       "      <td>1</td>\n",
       "      <td>SO   Very very small keys  For fast typers w...</td>\n",
       "      <td>11</td>\n",
       "      <td>0.139083</td>\n",
       "      <td>0.507840</td>\n",
       "      <td>...</td>\n",
       "      <td>6.0</td>\n",
       "      <td>4.0</td>\n",
       "      <td>8.0</td>\n",
       "      <td>1.0</td>\n",
       "      <td>2.0</td>\n",
       "      <td>2.0</td>\n",
       "      <td>5.0</td>\n",
       "      <td>0.687500</td>\n",
       "      <td>22.0</td>\n",
       "      <td>1</td>\n",
       "    </tr>\n",
       "    <tr>\n",
       "      <th>4</th>\n",
       "      <td>4</td>\n",
       "      <td>Reviewed in India on 27 October 2018</td>\n",
       "      <td>https://www.amazon.in/Logitech-Prodigy-G213-Ga...</td>\n",
       "      <td>Good only when new</td>\n",
       "      <td>Amazon Customer</td>\n",
       "      <td>2</td>\n",
       "      <td>Good to use keyboard while it is new  but it...</td>\n",
       "      <td>15</td>\n",
       "      <td>0.165427</td>\n",
       "      <td>0.698140</td>\n",
       "      <td>...</td>\n",
       "      <td>4.0</td>\n",
       "      <td>2.0</td>\n",
       "      <td>9.0</td>\n",
       "      <td>2.0</td>\n",
       "      <td>1.0</td>\n",
       "      <td>1.0</td>\n",
       "      <td>3.0</td>\n",
       "      <td>0.731343</td>\n",
       "      <td>28.0</td>\n",
       "      <td>0</td>\n",
       "    </tr>\n",
       "  </tbody>\n",
       "</table>\n",
       "<p>5 rows × 26 columns</p>\n",
       "</div>"
      ],
      "text/plain": [
       "   Unnamed: 0                                   Date  \\\n",
       "0           0    Reviewed in India on 10 August 2018   \n",
       "1           1     Reviewed in India on 27 March 2018   \n",
       "2           2  Reviewed in India on 19 December 2018   \n",
       "3           3      Reviewed in India on 25 June 2020   \n",
       "4           4   Reviewed in India on 27 October 2018   \n",
       "\n",
       "                                                 URL  \\\n",
       "0  https://www.amazon.in/Logitech-Prodigy-G213-Ga...   \n",
       "1  https://www.amazon.in/Logitech-Prodigy-G213-Ga...   \n",
       "2  https://www.amazon.in/Logitech-Prodigy-G213-Ga...   \n",
       "3  https://www.amazon.in/Logitech-Prodigy-G213-Ga...   \n",
       "4  https://www.amazon.in/Logitech-Prodigy-G213-Ga...   \n",
       "\n",
       "                                        Review_Title           Author  Rating  \\\n",
       "0       It s a logitech  Definitely worth buying it      Aqib Mehmood       5   \n",
       "1  Great deal  got it for        With Lightening ...          Chauhan       4   \n",
       "2                                           Loved it           Smok3y       5   \n",
       "3       Not a good purchase  please read description    Kumar Saharsh       1   \n",
       "4                                 Good only when new  Amazon Customer       2   \n",
       "\n",
       "                                         Review_text  Review_helpful  \\\n",
       "0    A really awesome keyboard  i was actually go...              77   \n",
       "1    I know its costly but its worth your money  ...              55   \n",
       "2    I had been contemplating to buy this for a l...              18   \n",
       "3    SO   Very very small keys  For fast typers w...              11   \n",
       "4    Good to use keyboard while it is new  but it...              15   \n",
       "\n",
       "   Sentiment  Subjectivity  ...  Adv_Count  Pro_Count  Pre_Count  Con_Count  \\\n",
       "0   0.359722      0.552778  ...        6.0        4.0        3.0        2.0   \n",
       "1   0.233125      0.468542  ...       10.0        4.0        7.0        2.0   \n",
       "2   0.338750      0.568750  ...        3.0        4.0        7.0        1.0   \n",
       "3   0.139083      0.507840  ...        6.0        4.0        8.0        1.0   \n",
       "4   0.165427      0.698140  ...        4.0        2.0        9.0        2.0   \n",
       "\n",
       "   Art_Count  Nega_Count  Aux_Count  Authenticity    AT  Rev_Type  \n",
       "0        2.0         1.0        9.0      0.706522  13.0         1  \n",
       "1        2.0         1.0        6.0      0.666667  16.0         1  \n",
       "2        2.0         0.0        9.0      0.735294  22.0         1  \n",
       "3        2.0         2.0        5.0      0.687500  22.0         1  \n",
       "4        1.0         1.0        3.0      0.731343  28.0         0  \n",
       "\n",
       "[5 rows x 26 columns]"
      ]
     },
     "execution_count": 8,
     "metadata": {},
     "output_type": "execute_result"
    }
   ],
   "source": [
    "data.head()"
   ]
  },
  {
   "cell_type": "code",
   "execution_count": 9,
   "metadata": {
    "id": "Xa3GEXYec57W"
   },
   "outputs": [],
   "source": [
    "X = data['Review_text'].values\n",
    "y = data['Rev_Type'].values"
   ]
  },
  {
   "cell_type": "code",
   "execution_count": 10,
   "metadata": {
    "id": "KgyC4meXif8v"
   },
   "outputs": [],
   "source": [
    "import nltk\n",
    "import re\n",
    "from nltk.corpus import stopwords\n",
    "from nltk.stem.porter import PorterStemmer"
   ]
  },
  {
   "cell_type": "code",
   "execution_count": 11,
   "metadata": {
    "colab": {
     "base_uri": "https://localhost:8080/",
     "height": 67
    },
    "id": "jrw7Rcseimix",
    "outputId": "fb987ca2-bbf4-406d-a2db-3c71ed3910bc"
   },
   "outputs": [
    {
     "name": "stderr",
     "output_type": "stream",
     "text": [
      "[nltk_data] Downloading package stopwords to\n",
      "[nltk_data]     C:\\Users\\nagas\\AppData\\Roaming\\nltk_data...\n",
      "[nltk_data]   Package stopwords is already up-to-date!\n"
     ]
    },
    {
     "data": {
      "text/plain": [
       "True"
      ]
     },
     "execution_count": 11,
     "metadata": {},
     "output_type": "execute_result"
    }
   ],
   "source": [
    "nltk.download(\"stopwords\")"
   ]
  },
  {
   "cell_type": "code",
   "execution_count": 12,
   "metadata": {
    "id": "kEBokQx2ipS_"
   },
   "outputs": [],
   "source": [
    "ps = PorterStemmer()\n",
    "corpus = []\n",
    "for i in range(len(X)):\n",
    "  news = re.sub('[^a-zA-Z]', ' ', X[i])\n",
    "  news = news.lower()\n",
    "  news = news.split()\n",
    "\n",
    "  news = [ps.stem(word) for word in news if word not in stopwords.words('english')]\n",
    "  news = ' '.join(news)\n",
    "  corpus.append(news)"
   ]
  },
  {
   "cell_type": "code",
   "execution_count": 13,
   "metadata": {
    "colab": {
     "base_uri": "https://localhost:8080/",
     "height": 70
    },
    "id": "gbrivQhkjNfu",
    "outputId": "b55878a9-d709-4b7c-bf90-0915959c9744"
   },
   "outputs": [
    {
     "data": {
      "text/plain": [
       "('  A really awesome keyboard  i was actually going for the cheap gaming keyboards like the Blaze   but This  it may be a bit costly for most of you all but trust me its worth it  this is the best RGB membrane keyboard ever  It may not be mechanical but do not ever go for the cheap gaming keyboards   this keyboard gives a premium  stealthy look and has alot of game lighting profilesPros  durable  Nice vibrant colors  Nice quality membrane keys   Almost everythingCons   Not many lighting effects   COULD have been a Mechanical keyboard',\n",
       " 'realli awesom keyboard actual go cheap game keyboard like blaze may bit costli trust worth best rgb membran keyboard ever may mechan ever go cheap game keyboard keyboard give premium stealthi look alot game light profilespro durabl nice vibrant color nice qualiti membran key almost everythingcon mani light effect could mechan keyboard')"
      ]
     },
     "execution_count": 13,
     "metadata": {},
     "output_type": "execute_result"
    }
   ],
   "source": [
    "X[0], corpus[0]"
   ]
  },
  {
   "cell_type": "code",
   "execution_count": 14,
   "metadata": {
    "id": "edJ-ud6wrbkP"
   },
   "outputs": [],
   "source": [
    "from sklearn.feature_extraction.text import  TfidfVectorizer\n",
    "from sklearn.model_selection import train_test_split\n",
    "from sklearn.pipeline import Pipeline"
   ]
  },
  {
   "cell_type": "code",
   "execution_count": 15,
   "metadata": {
    "id": "4EvR8OmTskG3"
   },
   "outputs": [],
   "source": [
    "X_train, X_test, y_train, y_test = train_test_split(np.asarray(corpus), y, test_size = 0.2, random_state = 24)"
   ]
  },
  {
   "cell_type": "code",
   "execution_count": 16,
   "metadata": {
    "colab": {
     "base_uri": "https://localhost:8080/",
     "height": 34
    },
    "id": "-cmjgW5gswHP",
    "outputId": "0bfc148a-00ff-485e-e1ee-7efb87789d76"
   },
   "outputs": [
    {
     "data": {
      "text/plain": [
       "((7550,), (1888,))"
      ]
     },
     "execution_count": 16,
     "metadata": {},
     "output_type": "execute_result"
    }
   ],
   "source": [
    "X_train.shape, X_test.shape"
   ]
  },
  {
   "cell_type": "code",
   "execution_count": 17,
   "metadata": {
    "colab": {
     "base_uri": "https://localhost:8080/",
     "height": 70
    },
    "id": "MrToWZfls0hn",
    "outputId": "2772e340-7f9c-44ff-f5a3-c958f15981b6"
   },
   "outputs": [
    {
     "data": {
      "text/plain": [
       "('best primium look', 1)"
      ]
     },
     "execution_count": 17,
     "metadata": {},
     "output_type": "execute_result"
    }
   ],
   "source": [
    "X_train[0], y_train[0]"
   ]
  },
  {
   "cell_type": "code",
   "execution_count": 18,
   "metadata": {
    "colab": {
     "base_uri": "https://localhost:8080/",
     "height": 70
    },
    "id": "DfgfbXz4tDQN",
    "outputId": "c512ae36-c3d3-476f-8c5a-6f6ed53423b8"
   },
   "outputs": [
    {
     "data": {
      "text/plain": [
       "('want buy track workout worst band look walk km approx step daili morn km measur car step count self use band given horribl result day workout mode band use without mobil mean without gp show walk km stepsday workout mode mobil show exact km stepsday normal mode show km step believ differ type result type walk step instead step horribl want notif band heart rate stress monitor good work workour buy gp watch',\n",
       " 1)"
      ]
     },
     "execution_count": 18,
     "metadata": {},
     "output_type": "execute_result"
    }
   ],
   "source": [
    "X_test[0], y_test[0]"
   ]
  },
  {
   "cell_type": "code",
   "execution_count": 19,
   "metadata": {
    "id": "NV3YzZ5ytz6u"
   },
   "outputs": [],
   "source": [
    "from sklearn.naive_bayes import MultinomialNB\n",
    "from sklearn.ensemble import RandomForestClassifier"
   ]
  },
  {
   "cell_type": "code",
   "execution_count": 20,
   "metadata": {
    "id": "sqUGEpiYuWwr"
   },
   "outputs": [],
   "source": [
    "from sklearn.metrics import accuracy_score, confusion_matrix, precision_score, recall_score"
   ]
  },
  {
   "cell_type": "code",
   "execution_count": 8,
   "metadata": {
    "id": "eZ_hW_sztIHU"
   },
   "outputs": [
    {
     "ename": "NameError",
     "evalue": "name 'TfidfVectorizer' is not defined",
     "output_type": "error",
     "traceback": [
      "\u001b[1;31m---------------------------------------------------------------------------\u001b[0m",
      "\u001b[1;31mNameError\u001b[0m                                 Traceback (most recent call last)",
      "\u001b[1;32m<ipython-input-8-a1536aba687a>\u001b[0m in \u001b[0;36m<module>\u001b[1;34m\u001b[0m\n\u001b[1;32m----> 1\u001b[1;33m \u001b[0mtfidf\u001b[0m \u001b[1;33m=\u001b[0m \u001b[0mTfidfVectorizer\u001b[0m\u001b[1;33m(\u001b[0m\u001b[1;33m)\u001b[0m\u001b[1;33m\u001b[0m\u001b[1;33m\u001b[0m\u001b[0m\n\u001b[0m\u001b[0;32m      2\u001b[0m \u001b[0mmodel\u001b[0m \u001b[1;33m=\u001b[0m \u001b[0mRandomForestClassifier\u001b[0m\u001b[1;33m(\u001b[0m\u001b[1;33m)\u001b[0m\u001b[1;33m\u001b[0m\u001b[1;33m\u001b[0m\u001b[0m\n",
      "\u001b[1;31mNameError\u001b[0m: name 'TfidfVectorizer' is not defined"
     ]
    }
   ],
   "source": [
    "tfidf = TfidfVectorizer()\n",
    "model = RandomForestClassifier()"
   ]
  },
  {
   "cell_type": "code",
   "execution_count": 22,
   "metadata": {
    "id": "bYjg9sABxe5j"
   },
   "outputs": [],
   "source": [
    "x_train = tfidf.fit_transform(X_train)\n",
    "x_test = tfidf.transform(X_test)"
   ]
  },
  {
   "cell_type": "code",
   "execution_count": 23,
   "metadata": {
    "id": "xyqED9Umxe9N"
   },
   "outputs": [],
   "source": [
    "# from sklearn.model_selection import RandomizedSearchCV\n",
    "# param_dist={'max_depth':[3,5,7,10,None],\n",
    "#               'n_estimators':[10,50,100,150,200,250,300,400,500],\n",
    "#                'criterion':['gini','entropy'],\n",
    "#                'bootstrap':[True,False],\n",
    "#               }\n",
    "# rf_model = RandomForestClassifier(class_weight='balanced', random_state = 42)\n",
    "# search_clfr = RandomizedSearchCV(rf_model, param_distributions = param_dist, n_jobs=-1, n_iter = 10, cv = 3, verbose =1)\n",
    "# search_clfr.fit(x_train, y_train)\n",
    "# search_clfr.best_estimator_"
   ]
  },
  {
   "cell_type": "code",
   "execution_count": 24,
   "metadata": {
    "id": "c3oV5Y4ixfCg"
   },
   "outputs": [],
   "source": [
    "model = RandomForestClassifier(bootstrap=False, ccp_alpha=0.0, class_weight='balanced',\n",
    "                       criterion='gini', max_depth=None, max_features='auto',\n",
    "                       max_leaf_nodes=None, max_samples=None,\n",
    "                       min_impurity_decrease=0.0, min_impurity_split=None,\n",
    "                       min_samples_leaf=1, min_samples_split=2,\n",
    "                       min_weight_fraction_leaf=0.0, n_estimators=250,\n",
    "                       n_jobs=None, oob_score=False, random_state=42, verbose=0,\n",
    "                       warm_start=False)"
   ]
  },
  {
   "cell_type": "code",
   "execution_count": 25,
   "metadata": {
    "id": "advlX0aZuAkA"
   },
   "outputs": [],
   "source": [
    "pipe_line = Pipeline([\n",
    "                      ('tfidf', tfidf),\n",
    "                      ('model', model)\n",
    "])"
   ]
  },
  {
   "cell_type": "code",
   "execution_count": 26,
   "metadata": {
    "colab": {
     "base_uri": "https://localhost:8080/",
     "height": 437
    },
    "id": "y6bRisLyuR1p",
    "outputId": "306ae466-188a-4476-8c87-5337a976de75"
   },
   "outputs": [
    {
     "data": {
      "text/plain": [
       "Pipeline(steps=[('tfidf', TfidfVectorizer()),\n",
       "                ('model',\n",
       "                 RandomForestClassifier(bootstrap=False,\n",
       "                                        class_weight='balanced',\n",
       "                                        n_estimators=250, random_state=42))])"
      ]
     },
     "execution_count": 26,
     "metadata": {},
     "output_type": "execute_result"
    }
   ],
   "source": [
    "pipe_line.fit(X_train, y_train)"
   ]
  },
  {
   "cell_type": "code",
   "execution_count": 27,
   "metadata": {
    "colab": {
     "base_uri": "https://localhost:8080/",
     "height": 101
    },
    "id": "BV1Gpuiz0hKX",
    "outputId": "a7f11568-3aaf-4870-973e-4b23ffa97e85"
   },
   "outputs": [
    {
     "name": "stdout",
     "output_type": "stream",
     "text": [
      "0.8649364406779662\n",
      "0.8212351029252438\n",
      "0.8938679245283019\n",
      "[[875 165]\n",
      " [ 90 758]]\n"
     ]
    }
   ],
   "source": [
    "pred = pipe_line.predict(X_test)\n",
    "print(accuracy_score(y_test, pred))\n",
    "print(precision_score(y_test, pred))\n",
    "print(recall_score(y_test, pred))\n",
    "print(confusion_matrix(y_test, pred))"
   ]
  },
  {
   "cell_type": "code",
   "execution_count": 28,
   "metadata": {
    "id": "B43D76fM1CLh"
   },
   "outputs": [],
   "source": [
    "import pickle"
   ]
  },
  {
   "cell_type": "code",
   "execution_count": 29,
   "metadata": {
    "id": "L-GfQ8YzugPN"
   },
   "outputs": [],
   "source": [
    "#pickle.dump(pipe_line, open(\"fake_news_predictor.pkl\", 'wb'))"
   ]
  },
  {
   "cell_type": "code",
   "execution_count": 30,
   "metadata": {
    "colab": {
     "base_uri": "https://localhost:8080/",
     "height": 67
    },
    "id": "C1O30PeVXxCr",
    "outputId": "493c5796-5021-4715-ced3-5c6e9c0a2ebd"
   },
   "outputs": [
    {
     "name": "stdout",
     "output_type": "stream",
     "text": [
      "Requirement already satisfied: xgboost==1.1.1 in c:\\users\\nagas\\anaconda3\\envs\\ml\\lib\\site-packages (1.1.1)\n",
      "Requirement already satisfied: scipy in c:\\users\\nagas\\anaconda3\\envs\\ml\\lib\\site-packages (from xgboost==1.1.1) (1.5.4)\n",
      "Requirement already satisfied: numpy in c:\\users\\nagas\\anaconda3\\envs\\ml\\lib\\site-packages (from xgboost==1.1.1) (1.19.5)\n"
     ]
    }
   ],
   "source": [
    "!pip install xgboost==1.1.1"
   ]
  },
  {
   "cell_type": "code",
   "execution_count": 31,
   "metadata": {
    "id": "1qiusb4Nuvqw"
   },
   "outputs": [],
   "source": [
    "import xgboost\n",
    "from xgboost import XGBClassifier"
   ]
  },
  {
   "cell_type": "code",
   "execution_count": 32,
   "metadata": {
    "id": "DjOxnwdh2PjV"
   },
   "outputs": [],
   "source": [
    "xgb_model = XGBClassifier()\n",
    "xgb_pipe_line = Pipeline([\n",
    "                      ('tfidf', tfidf),\n",
    "                      ('model', xgb_model)\n",
    "])"
   ]
  },
  {
   "cell_type": "code",
   "execution_count": 33,
   "metadata": {
    "colab": {
     "base_uri": "https://localhost:8080/",
     "height": 386
    },
    "id": "O6-r16c32YN8",
    "outputId": "c3d78f2c-082f-4367-e209-e543b4b273b3"
   },
   "outputs": [
    {
     "data": {
      "text/plain": [
       "Pipeline(steps=[('tfidf', TfidfVectorizer()),\n",
       "                ('model',\n",
       "                 XGBClassifier(base_score=0.5, booster='gbtree',\n",
       "                               colsample_bylevel=1, colsample_bynode=1,\n",
       "                               colsample_bytree=1, gamma=0, gpu_id=-1,\n",
       "                               importance_type='gain',\n",
       "                               interaction_constraints='',\n",
       "                               learning_rate=0.300000012, max_delta_step=0,\n",
       "                               max_depth=6, min_child_weight=1, missing=nan,\n",
       "                               monotone_constraints='()', n_estimators=100,\n",
       "                               n_jobs=0, num_parallel_tree=1, random_state=0,\n",
       "                               reg_alpha=0, reg_lambda=1, scale_pos_weight=1,\n",
       "                               subsample=1, tree_method='exact',\n",
       "                               validate_parameters=1, verbosity=None))])"
      ]
     },
     "execution_count": 33,
     "metadata": {},
     "output_type": "execute_result"
    }
   ],
   "source": [
    "xgb_pipe_line.fit(X_train, y_train)"
   ]
  },
  {
   "cell_type": "code",
   "execution_count": 34,
   "metadata": {
    "colab": {
     "base_uri": "https://localhost:8080/",
     "height": 101
    },
    "id": "da1eXKHc2bm5",
    "outputId": "4fe0f2a3-d046-48b0-ba31-a385b809e50c"
   },
   "outputs": [
    {
     "name": "stdout",
     "output_type": "stream",
     "text": [
      "0.8776483050847458\n",
      "0.8533791523482245\n",
      "0.8785377358490566\n",
      "[[912 128]\n",
      " [103 745]]\n"
     ]
    }
   ],
   "source": [
    "pred = xgb_pipe_line.predict(X_test)\n",
    "print(accuracy_score(y_test, pred))\n",
    "print(precision_score(y_test, pred))\n",
    "print(recall_score(y_test, pred))\n",
    "print(confusion_matrix(y_test, pred))"
   ]
  },
  {
   "cell_type": "code",
   "execution_count": 35,
   "metadata": {
    "id": "6z9pOS8fDdA3"
   },
   "outputs": [],
   "source": [
    "pickle.dump(xgb_pipe_line, open(\"xgb_fake_review_predictor.pkl\", 'wb'))"
   ]
  },
  {
   "cell_type": "code",
   "execution_count": 36,
   "metadata": {
    "colab": {
     "base_uri": "https://localhost:8080/",
     "height": 35
    },
    "id": "wEad6HPiYT-H",
    "outputId": "62332ce3-1f8d-4e09-a4ee-0ce04d5ccd70"
   },
   "outputs": [
    {
     "data": {
      "text/plain": [
       "'1.1.1'"
      ]
     },
     "execution_count": 36,
     "metadata": {},
     "output_type": "execute_result"
    }
   ],
   "source": [
    "xgboost.__version__"
   ]
  }
 ],
 "metadata": {
  "accelerator": "GPU",
  "colab": {
   "collapsed_sections": [],
   "name": "Fake_News_Classifier_using_Machine_Learning.ipynb",
   "provenance": []
  },
  "kernelspec": {
   "display_name": "Python 3",
   "language": "python",
   "name": "python3"
  },
  "language_info": {
   "codemirror_mode": {
    "name": "ipython",
    "version": 3
   },
   "file_extension": ".py",
   "mimetype": "text/x-python",
   "name": "python",
   "nbconvert_exporter": "python",
   "pygments_lexer": "ipython3",
   "version": "3.6.9"
  }
 },
 "nbformat": 4,
 "nbformat_minor": 1
}
